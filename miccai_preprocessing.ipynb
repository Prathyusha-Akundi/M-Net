{
 "cells": [
  {
   "cell_type": "code",
   "execution_count": 7,
   "metadata": {},
   "outputs": [],
   "source": [
    "import numpy as np\n",
    "import nibabel as nib\n",
    "import matplotlib.pyplot as plt\n",
    "from deepbrain import Extractor\n",
    "import os\n",
    "import SimpleITK as sitk"
   ]
  },
  {
   "cell_type": "code",
   "execution_count": 3,
   "metadata": {},
   "outputs": [],
   "source": [
    "filepath_brain = 'data/miccai_brain/'\n",
    "outfile_brain = 'data/miccai_stripped_brain'"
   ]
  },
  {
   "cell_type": "code",
   "execution_count": 4,
   "metadata": {},
   "outputs": [],
   "source": [
    "nib.Nifti1Header.quaternion_threshold = -7e-07"
   ]
  },
  {
   "cell_type": "code",
   "execution_count": 5,
   "metadata": {},
   "outputs": [],
   "source": [
    "def crop(vol):\n",
    "    h,w,slices = vol.shape\n",
    "    crop_vol = np.zeros((152,152,slices))\n",
    "    for j in range(slices):\n",
    "        crop_slice = vol[74:226,62:214,j]\n",
    "        crop_vol[:,:,j] = crop_slice\n",
    "    return crop_vol\n",
    "        \n",
    "\n",
    "def skull_strip(filepath_brain,out_path):\n",
    "    \n",
    "    for file in next(os.walk(filepath_brain))[2]:\n",
    "        nii_vol = nib.load(filepath_brain+file)\n",
    "        nii_img = nii_vol.get_fdata()\n",
    "        nii_aff = nii_vol.affine\n",
    "        ext = Extractor()\n",
    "        prob = ext.run(nii_img) \n",
    "        mask = prob > 0.5\n",
    "        stripped_image = np.copy(nii_img) # define the masked image as the full image\n",
    "        stripped_image[mask==False] = 0 \n",
    "        \n",
    "        #cropped_vol = crop(stripped_image)\n",
    "        \n",
    "        new_nii_vol = nib.Nifti1Image(stripped_image,nii_aff)\n",
    "        nib.save(new_nii_vol,out_path+file)\n",
    "        "
   ]
  },
  {
   "cell_type": "code",
   "execution_count": 16,
   "metadata": {},
   "outputs": [],
   "source": [
    "def n4correction(filepath_brain,out_path):\n",
    "    \n",
    "    for file in next(os.walk(filepath_brain))[2]:\n",
    "        input_image = sitk.ReadImage(filepath_brain+file)\n",
    "        input_image = sitk.Cast( input_image, sitk.sitkFloat32 )\n",
    "        corrector = sitk.N4BiasFieldCorrectionImageFilter()\n",
    "        numberFittingLevels = 4\n",
    "        maskImage = sitk.OtsuThreshold( input_image, 0, 1, 200 )\n",
    "        output = corrector.Execute( input_image, maskImage )\n",
    "        sitk.WriteImage( output, out_path+file )\n",
    "        \n",
    "        \n",
    "\n",
    "        "
   ]
  },
  {
   "cell_type": "code",
   "execution_count": 15,
   "metadata": {},
   "outputs": [],
   "source": [
    "skull_strip(filepath_brain,outfile_brain)"
   ]
  },
  {
   "cell_type": "code",
   "execution_count": 18,
   "metadata": {},
   "outputs": [],
   "source": [
    "strip_path = 'data/miccai_stripped_brain/'\n",
    "out_n4_path = 'data/miccai_normalized'"
   ]
  },
  {
   "cell_type": "code",
   "execution_count": 19,
   "metadata": {},
   "outputs": [],
   "source": [
    "n4correction(strip_path,out_n4_path)"
   ]
  },
  {
   "cell_type": "code",
   "execution_count": null,
   "metadata": {},
   "outputs": [],
   "source": []
  }
 ],
 "metadata": {
  "kernelspec": {
   "display_name": "Python 3",
   "language": "python",
   "name": "python3"
  },
  "language_info": {
   "codemirror_mode": {
    "name": "ipython",
    "version": 3
   },
   "file_extension": ".py",
   "mimetype": "text/x-python",
   "name": "python",
   "nbconvert_exporter": "python",
   "pygments_lexer": "ipython3",
   "version": "3.6.8"
  }
 },
 "nbformat": 4,
 "nbformat_minor": 2
}
